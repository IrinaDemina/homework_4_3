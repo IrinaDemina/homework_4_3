{
 "cells": [
  {
   "cell_type": "code",
   "execution_count": 59,
   "metadata": {},
   "outputs": [],
   "source": [
    "import requests\n",
    "\n",
    "import pandas as pd\n",
    "import numpy as np\n",
    "import matplotlib.pyplot as plt\n",
    "from scipy.cluster.vq import whiten, kmeans2\n",
    "\n",
    "%matplotlib inline"
   ]
  },
  {
   "cell_type": "code",
   "execution_count": 60,
   "metadata": {},
   "outputs": [],
   "source": [
    "def call_api(uri, result_key):\n",
    "    json = {}\n",
    "    try:\n",
    "        json = requests.get(uri, headers = { 'X-Auth-Token': '8fb9e6ef69ce4145a8c96cb9f0dbe2a3' }).json()\n",
    "        return json[result_key]\n",
    "    except:\n",
    "        print(json)\n",
    "        return None"
   ]
  },
  {
   "cell_type": "code",
   "execution_count": 61,
   "metadata": {},
   "outputs": [
    {
     "name": "stdout",
     "output_type": "stream",
     "text": [
      "Team \"FC Rio Ave\", 13 defeats\n",
      "Team \"FC Porto\", 5 defeats\n",
      "Team \"Moreirense FC\", 18 defeats\n",
      "Team \"FC Paços de Ferreira\", 18 defeats\n",
      "Team \"Sporting CP\", 7 defeats\n",
      "Team \"Maritimo Funchal\", 13 defeats\n",
      "Team \"CD Tondela\", 16 defeats\n",
      "Team \"SL Benfica\", 9 defeats\n",
      "Team \"Boavista Porto FC\", 15 defeats\n",
      "Team \"FC Arouca\", 0 defeats\n",
      "Team \"Vitoria Setubal\", 16 defeats\n",
      "Team \"C.F. Os Belenenses\", 15 defeats\n",
      "Team \"Vitoria Guimaraes\", 17 defeats\n",
      "Team \"Sporting Braga\", 7 defeats\n",
      "Team \"GD Estoril Praia\", 20 defeats\n",
      "Team \"Feirense\", 21 defeats\n",
      "Team \"Nacional Funchal\", 0 defeats\n",
      "Team \"G.D. Chaves\", 13 defeats\n"
     ]
    }
   ],
   "source": [
    "teams = call_api('http://api.football-data.org/v1/soccerseasons/439/teams', 'teams')\n",
    "\n",
    "for team in teams:\n",
    "    fixtures = call_api(team['_links']['fixtures']['href'], 'fixtures')\n",
    "    defeat = 0\n",
    "    \n",
    "    for f in fixtures:\n",
    "        if team['name'] == f['homeTeamName']:\n",
    "            try:\n",
    "                if int(f['result']['goalsHomeTeam']) < int(f['result']['goalsAwayTeam']):\n",
    "                    defeat += 1\n",
    "            except TypeError:\n",
    "                pass\n",
    "        else:\n",
    "            try:\n",
    "                if int(f['result']['goalsAwayTeam']) < int(f['result']['goalsHomeTeam']):\n",
    "                    defeat += 1\n",
    "            except TypeError:\n",
    "                pass\n",
    "    team['defeat'] = defeat\n",
    "    print('Team \"{}\", {} defeats'.format(team['name'], defeat))"
   ]
  },
  {
   "cell_type": "code",
   "execution_count": 62,
   "metadata": {},
   "outputs": [
    {
     "data": {
      "text/plain": [
       "[{'cost': 22150000, 'defeats': 13, 'name': 'FC Rio Ave'},\n",
       " {'cost': 223100000, 'defeats': 5, 'name': 'FC Porto'},\n",
       " {'cost': 14950000, 'defeats': 18, 'name': 'Moreirense FC'},\n",
       " {'cost': 15900000, 'defeats': 18, 'name': 'FC Paços de Ferreira'},\n",
       " {'cost': 202500000, 'defeats': 7, 'name': 'Sporting CP'},\n",
       " {'cost': 19000000, 'defeats': 13, 'name': 'Maritimo Funchal'},\n",
       " {'cost': 13850000, 'defeats': 16, 'name': 'CD Tondela'},\n",
       " {'cost': 178400000, 'defeats': 9, 'name': 'SL Benfica'},\n",
       " {'cost': 15950000, 'defeats': 15, 'name': 'Boavista Porto FC'},\n",
       " {'cost': 6500000, 'defeats': 0, 'name': 'FC Arouca'},\n",
       " {'cost': 18100000, 'defeats': 16, 'name': 'Vitoria Setubal'},\n",
       " {'cost': 17700000, 'defeats': 15, 'name': 'C.F. Os Belenenses'},\n",
       " {'cost': 34700000, 'defeats': 17, 'name': 'Vitoria Guimaraes'},\n",
       " {'cost': 9100000, 'defeats': 7, 'name': 'Sporting Braga'},\n",
       " {'cost': 19250000, 'defeats': 20, 'name': 'GD Estoril Praia'},\n",
       " {'cost': 12450000, 'defeats': 21, 'name': 'Feirense'},\n",
       " {'cost': 0, 'defeats': 0, 'name': 'Nacional Funchal'},\n",
       " {'cost': 19500000, 'defeats': 13, 'name': 'G.D. Chaves'}]"
      ]
     },
     "execution_count": 62,
     "metadata": {},
     "output_type": "execute_result"
    }
   ],
   "source": [
    "team_for_pd = []\n",
    "cost_team = [22150000, 223100000, 14950000, 15900000, 202500000, 19000000, 13850000, 178400000, 15950000, 6500000, 18100000, 17700000, 34700000, 9100000, 19250000, 12450000, 0, 19500000]\n",
    "i = 0\n",
    "for team in teams:\n",
    "    team_for_pd.append({'name': team['name'], 'defeats': team['defeat'], 'cost': cost_team[i]})\n",
    "    i += 1\n",
    "team_for_pd"
   ]
  },
  {
   "cell_type": "code",
   "execution_count": 63,
   "metadata": {},
   "outputs": [
    {
     "data": {
      "text/html": [
       "<div>\n",
       "<style scoped>\n",
       "    .dataframe tbody tr th:only-of-type {\n",
       "        vertical-align: middle;\n",
       "    }\n",
       "\n",
       "    .dataframe tbody tr th {\n",
       "        vertical-align: top;\n",
       "    }\n",
       "\n",
       "    .dataframe thead th {\n",
       "        text-align: right;\n",
       "    }\n",
       "</style>\n",
       "<table border=\"1\" class=\"dataframe\">\n",
       "  <thead>\n",
       "    <tr style=\"text-align: right;\">\n",
       "      <th></th>\n",
       "      <th>name</th>\n",
       "      <th>cost</th>\n",
       "      <th>defeats</th>\n",
       "    </tr>\n",
       "  </thead>\n",
       "  <tbody>\n",
       "    <tr>\n",
       "      <th>0</th>\n",
       "      <td>FC Rio Ave</td>\n",
       "      <td>22150000</td>\n",
       "      <td>13</td>\n",
       "    </tr>\n",
       "    <tr>\n",
       "      <th>1</th>\n",
       "      <td>FC Porto</td>\n",
       "      <td>223100000</td>\n",
       "      <td>5</td>\n",
       "    </tr>\n",
       "    <tr>\n",
       "      <th>2</th>\n",
       "      <td>Moreirense FC</td>\n",
       "      <td>14950000</td>\n",
       "      <td>18</td>\n",
       "    </tr>\n",
       "    <tr>\n",
       "      <th>3</th>\n",
       "      <td>FC Paços de Ferreira</td>\n",
       "      <td>15900000</td>\n",
       "      <td>18</td>\n",
       "    </tr>\n",
       "    <tr>\n",
       "      <th>4</th>\n",
       "      <td>Sporting CP</td>\n",
       "      <td>202500000</td>\n",
       "      <td>7</td>\n",
       "    </tr>\n",
       "    <tr>\n",
       "      <th>5</th>\n",
       "      <td>Maritimo Funchal</td>\n",
       "      <td>19000000</td>\n",
       "      <td>13</td>\n",
       "    </tr>\n",
       "    <tr>\n",
       "      <th>6</th>\n",
       "      <td>CD Tondela</td>\n",
       "      <td>13850000</td>\n",
       "      <td>16</td>\n",
       "    </tr>\n",
       "    <tr>\n",
       "      <th>7</th>\n",
       "      <td>SL Benfica</td>\n",
       "      <td>178400000</td>\n",
       "      <td>9</td>\n",
       "    </tr>\n",
       "    <tr>\n",
       "      <th>8</th>\n",
       "      <td>Boavista Porto FC</td>\n",
       "      <td>15950000</td>\n",
       "      <td>15</td>\n",
       "    </tr>\n",
       "    <tr>\n",
       "      <th>9</th>\n",
       "      <td>FC Arouca</td>\n",
       "      <td>6500000</td>\n",
       "      <td>0</td>\n",
       "    </tr>\n",
       "    <tr>\n",
       "      <th>10</th>\n",
       "      <td>Vitoria Setubal</td>\n",
       "      <td>18100000</td>\n",
       "      <td>16</td>\n",
       "    </tr>\n",
       "    <tr>\n",
       "      <th>11</th>\n",
       "      <td>C.F. Os Belenenses</td>\n",
       "      <td>17700000</td>\n",
       "      <td>15</td>\n",
       "    </tr>\n",
       "    <tr>\n",
       "      <th>12</th>\n",
       "      <td>Vitoria Guimaraes</td>\n",
       "      <td>34700000</td>\n",
       "      <td>17</td>\n",
       "    </tr>\n",
       "    <tr>\n",
       "      <th>13</th>\n",
       "      <td>Sporting Braga</td>\n",
       "      <td>9100000</td>\n",
       "      <td>7</td>\n",
       "    </tr>\n",
       "    <tr>\n",
       "      <th>14</th>\n",
       "      <td>GD Estoril Praia</td>\n",
       "      <td>19250000</td>\n",
       "      <td>20</td>\n",
       "    </tr>\n",
       "    <tr>\n",
       "      <th>15</th>\n",
       "      <td>Feirense</td>\n",
       "      <td>12450000</td>\n",
       "      <td>21</td>\n",
       "    </tr>\n",
       "    <tr>\n",
       "      <th>16</th>\n",
       "      <td>Nacional Funchal</td>\n",
       "      <td>0</td>\n",
       "      <td>0</td>\n",
       "    </tr>\n",
       "    <tr>\n",
       "      <th>17</th>\n",
       "      <td>G.D. Chaves</td>\n",
       "      <td>19500000</td>\n",
       "      <td>13</td>\n",
       "    </tr>\n",
       "  </tbody>\n",
       "</table>\n",
       "</div>"
      ],
      "text/plain": [
       "                    name       cost  defeats\n",
       "0             FC Rio Ave   22150000       13\n",
       "1               FC Porto  223100000        5\n",
       "2          Moreirense FC   14950000       18\n",
       "3   FC Paços de Ferreira   15900000       18\n",
       "4            Sporting CP  202500000        7\n",
       "5       Maritimo Funchal   19000000       13\n",
       "6             CD Tondela   13850000       16\n",
       "7             SL Benfica  178400000        9\n",
       "8      Boavista Porto FC   15950000       15\n",
       "9              FC Arouca    6500000        0\n",
       "10       Vitoria Setubal   18100000       16\n",
       "11    C.F. Os Belenenses   17700000       15\n",
       "12     Vitoria Guimaraes   34700000       17\n",
       "13        Sporting Braga    9100000        7\n",
       "14      GD Estoril Praia   19250000       20\n",
       "15              Feirense   12450000       21\n",
       "16      Nacional Funchal          0        0\n",
       "17           G.D. Chaves   19500000       13"
      ]
     },
     "execution_count": 63,
     "metadata": {},
     "output_type": "execute_result"
    }
   ],
   "source": [
    "teams_pd = pd.DataFrame(team_for_pd)\n",
    "teams_pd = teams_pd[['name', 'cost', 'defeats']]\n",
    "teams_pd"
   ]
  },
  {
   "cell_type": "markdown",
   "metadata": {},
   "source": [
    "## Кластеризация футбольных команд по стоимости и количеству проигрышей"
   ]
  },
  {
   "cell_type": "code",
   "execution_count": 64,
   "metadata": {},
   "outputs": [
    {
     "data": {
      "text/plain": [
       "<matplotlib.axes._subplots.AxesSubplot at 0xb268c18>"
      ]
     },
     "execution_count": 64,
     "metadata": {},
     "output_type": "execute_result"
    },
    {
     "data": {
      "image/png": "[encoded data removed]",
      "text/plain": [
       "<matplotlib.figure.Figure at 0xb203ef0>"
      ]
     },
     "metadata": {},
     "output_type": "display_data"
    }
   ],
   "source": [
    "teams_pd.plot.scatter(x='cost', y='defeats', s=100)"
   ]
  },
  {
   "cell_type": "code",
   "execution_count": 65,
   "metadata": {},
   "outputs": [
    {
     "data": {
      "text/html": [
       "<div>\n",
       "<style scoped>\n",
       "    .dataframe tbody tr th:only-of-type {\n",
       "        vertical-align: middle;\n",
       "    }\n",
       "\n",
       "    .dataframe tbody tr th {\n",
       "        vertical-align: top;\n",
       "    }\n",
       "\n",
       "    .dataframe thead th {\n",
       "        text-align: right;\n",
       "    }\n",
       "</style>\n",
       "<table border=\"1\" class=\"dataframe\">\n",
       "  <thead>\n",
       "    <tr style=\"text-align: right;\">\n",
       "      <th></th>\n",
       "      <th>cost</th>\n",
       "      <th>defeats</th>\n",
       "    </tr>\n",
       "  </thead>\n",
       "  <tbody>\n",
       "    <tr>\n",
       "      <th>0</th>\n",
       "      <td>22150000</td>\n",
       "      <td>13</td>\n",
       "    </tr>\n",
       "    <tr>\n",
       "      <th>1</th>\n",
       "      <td>223100000</td>\n",
       "      <td>5</td>\n",
       "    </tr>\n",
       "    <tr>\n",
       "      <th>2</th>\n",
       "      <td>14950000</td>\n",
       "      <td>18</td>\n",
       "    </tr>\n",
       "    <tr>\n",
       "      <th>3</th>\n",
       "      <td>15900000</td>\n",
       "      <td>18</td>\n",
       "    </tr>\n",
       "    <tr>\n",
       "      <th>4</th>\n",
       "      <td>202500000</td>\n",
       "      <td>7</td>\n",
       "    </tr>\n",
       "    <tr>\n",
       "      <th>5</th>\n",
       "      <td>19000000</td>\n",
       "      <td>13</td>\n",
       "    </tr>\n",
       "    <tr>\n",
       "      <th>6</th>\n",
       "      <td>13850000</td>\n",
       "      <td>16</td>\n",
       "    </tr>\n",
       "    <tr>\n",
       "      <th>7</th>\n",
       "      <td>178400000</td>\n",
       "      <td>9</td>\n",
       "    </tr>\n",
       "    <tr>\n",
       "      <th>8</th>\n",
       "      <td>15950000</td>\n",
       "      <td>15</td>\n",
       "    </tr>\n",
       "    <tr>\n",
       "      <th>9</th>\n",
       "      <td>6500000</td>\n",
       "      <td>0</td>\n",
       "    </tr>\n",
       "    <tr>\n",
       "      <th>10</th>\n",
       "      <td>18100000</td>\n",
       "      <td>16</td>\n",
       "    </tr>\n",
       "    <tr>\n",
       "      <th>11</th>\n",
       "      <td>17700000</td>\n",
       "      <td>15</td>\n",
       "    </tr>\n",
       "    <tr>\n",
       "      <th>12</th>\n",
       "      <td>34700000</td>\n",
       "      <td>17</td>\n",
       "    </tr>\n",
       "    <tr>\n",
       "      <th>13</th>\n",
       "      <td>9100000</td>\n",
       "      <td>7</td>\n",
       "    </tr>\n",
       "    <tr>\n",
       "      <th>14</th>\n",
       "      <td>19250000</td>\n",
       "      <td>20</td>\n",
       "    </tr>\n",
       "    <tr>\n",
       "      <th>15</th>\n",
       "      <td>12450000</td>\n",
       "      <td>21</td>\n",
       "    </tr>\n",
       "    <tr>\n",
       "      <th>16</th>\n",
       "      <td>0</td>\n",
       "      <td>0</td>\n",
       "    </tr>\n",
       "    <tr>\n",
       "      <th>17</th>\n",
       "      <td>19500000</td>\n",
       "      <td>13</td>\n",
       "    </tr>\n",
       "  </tbody>\n",
       "</table>\n",
       "</div>"
      ],
      "text/plain": [
       "         cost  defeats\n",
       "0    22150000       13\n",
       "1   223100000        5\n",
       "2    14950000       18\n",
       "3    15900000       18\n",
       "4   202500000        7\n",
       "5    19000000       13\n",
       "6    13850000       16\n",
       "7   178400000        9\n",
       "8    15950000       15\n",
       "9     6500000        0\n",
       "10   18100000       16\n",
       "11   17700000       15\n",
       "12   34700000       17\n",
       "13    9100000        7\n",
       "14   19250000       20\n",
       "15   12450000       21\n",
       "16          0        0\n",
       "17   19500000       13"
      ]
     },
     "execution_count": 65,
     "metadata": {},
     "output_type": "execute_result"
    }
   ],
   "source": [
    "del teams_pd['name']\n",
    "teams_pd"
   ]
  },
  {
   "cell_type": "code",
   "execution_count": 94,
   "metadata": {},
   "outputs": [
    {
     "data": {
      "text/plain": [
       "array([[0.31720893, 2.10231472],\n",
       "       [3.19500278, 0.80858258],\n",
       "       [0.21409812, 2.9108973 ],\n",
       "       [0.22770302, 2.9108973 ],\n",
       "       [2.89999132, 1.13201562],\n",
       "       [0.27209795, 2.10231472],\n",
       "       [0.19834509, 2.58746427],\n",
       "       [2.55485655, 1.45544865],\n",
       "       [0.22841907, 2.42574775],\n",
       "       [0.09308614, 0.        ],\n",
       "       [0.2592091 , 2.58746427],\n",
       "       [0.25348072, 2.42574775],\n",
       "       [0.49693678, 2.74918079],\n",
       "       [0.1303206 , 1.13201562],\n",
       "       [0.27567819, 3.23433034],\n",
       "       [0.17829576, 3.39604685],\n",
       "       [0.        , 0.        ],\n",
       "       [0.27925842, 2.10231472]])"
      ]
     },
     "execution_count": 94,
     "metadata": {},
     "output_type": "execute_result"
    }
   ],
   "source": [
    "whitened = whiten(teams_pd.as_matrix())\n",
    "whitened"
   ]
  },
  {
   "cell_type": "code",
   "execution_count": 146,
   "metadata": {},
   "outputs": [
    {
     "data": {
      "text/plain": [
       "(array([[0.2667276 , 2.6278934 ],\n",
       "        [0.07446891, 0.37733854],\n",
       "        [2.88328355, 1.13201562]]),\n",
       " array([0, 2, 0, 0, 2, 0, 0, 2, 0, 1, 0, 0, 0, 1, 0, 0, 1, 0]))"
      ]
     },
     "execution_count": 146,
     "metadata": {},
     "output_type": "execute_result"
    }
   ],
   "source": [
    "centroids, cluster_map = kmeans2(whitened, 3)\n",
    "centroids, cluster_map"
   ]
  },
  {
   "cell_type": "code",
   "execution_count": 147,
   "metadata": {},
   "outputs": [
    {
     "data": {
      "text/plain": [
       "['r',\n",
       " 'b',\n",
       " 'r',\n",
       " 'r',\n",
       " 'b',\n",
       " 'r',\n",
       " 'r',\n",
       " 'b',\n",
       " 'r',\n",
       " 'g',\n",
       " 'r',\n",
       " 'r',\n",
       " 'r',\n",
       " 'g',\n",
       " 'r',\n",
       " 'r',\n",
       " 'g',\n",
       " 'r']"
      ]
     },
     "execution_count": 147,
     "metadata": {},
     "output_type": "execute_result"
    }
   ],
   "source": [
    "colors_map = {0: 'r', 1: 'g', 2: 'b', 3: 'y', 4: 'm'}\n",
    "colors = [colors_map[c] for c in cluster_map]\n",
    "colors"
   ]
  },
  {
   "cell_type": "code",
   "execution_count": 148,
   "metadata": {},
   "outputs": [
    {
     "data": {
      "text/plain": [
       "<matplotlib.axes._subplots.AxesSubplot at 0xc86e668>"
      ]
     },
     "execution_count": 148,
     "metadata": {},
     "output_type": "execute_result"
    },
    {
     "data": {
      "image/png": "[encoded data removed]",
      "text/plain": [
       "<matplotlib.figure.Figure at 0xc7f2ba8>"
      ]
     },
     "metadata": {},
     "output_type": "display_data"
    }
   ],
   "source": [
    "teams_pd.plot.scatter(x='cost', y='defeats', c=colors, s=100)"
   ]
  },
  {
   "cell_type": "code",
   "execution_count": 170,
   "metadata": {},
   "outputs": [
    {
     "data": {
      "text/plain": [
       "(array([6.48980465, 7.32575821]),\n",
       " array([4, 2, 0, 0, 1, 4, 4, 1, 4, 3, 4, 4, 0, 4, 0, 0, 3, 4]))"
      ]
     },
     "execution_count": 170,
     "metadata": {},
     "output_type": "execute_result"
    }
   ],
   "source": [
    "centroids, cluster_map = kmeans2(whitened, 5)\n",
    "sum(centroids), cluster_map"
   ]
  },
  {
   "cell_type": "code",
   "execution_count": 171,
   "metadata": {},
   "outputs": [
    {
     "data": {
      "text/plain": [
       "['m',\n",
       " 'b',\n",
       " 'r',\n",
       " 'r',\n",
       " 'g',\n",
       " 'm',\n",
       " 'm',\n",
       " 'g',\n",
       " 'm',\n",
       " 'y',\n",
       " 'm',\n",
       " 'm',\n",
       " 'r',\n",
       " 'm',\n",
       " 'r',\n",
       " 'r',\n",
       " 'y',\n",
       " 'm']"
      ]
     },
     "execution_count": 171,
     "metadata": {},
     "output_type": "execute_result"
    }
   ],
   "source": [
    "colors_map = {0: 'r', 1: 'g', 2: 'b', 3: 'y', 4: 'm'}\n",
    "colors = [colors_map[c] for c in cluster_map]\n",
    "colors"
   ]
  },
  {
   "cell_type": "code",
   "execution_count": 172,
   "metadata": {},
   "outputs": [
    {
     "data": {
      "text/plain": [
       "<matplotlib.axes._subplots.AxesSubplot at 0xc8bd668>"
      ]
     },
     "execution_count": 172,
     "metadata": {},
     "output_type": "execute_result"
    },
    {
     "data": {
      "image/png": "[encoded data removed]",
      "text/plain": [
       "<matplotlib.figure.Figure at 0xc8bda20>"
      ]
     },
     "metadata": {},
     "output_type": "display_data"
    }
   ],
   "source": [
    "teams_pd.plot.scatter(x='cost', y='defeats', c=colors, s=100)"
   ]
  }
 ],
 "metadata": {
  "kernelspec": {
   "display_name": "Python 3",
   "language": "python",
   "name": "python3"
  },
  "language_info": {
   "codemirror_mode": {
    "name": "ipython",
    "version": 3
   },
   "file_extension": ".py",
   "mimetype": "text/x-python",
   "name": "python",
   "nbconvert_exporter": "python",
   "pygments_lexer": "ipython3",
   "version": "3.6.4"
  }
 },
 "nbformat": 4,
 "nbformat_minor": 2
}
